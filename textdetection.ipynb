{
 "cells": [
  {
   "cell_type": "code",
   "execution_count": 2,
   "id": "d74d56e1",
   "metadata": {},
   "outputs": [
    {
     "name": "stderr",
     "output_type": "stream",
     "text": [
      "Neither CUDA nor MPS are available - defaulting to CPU. Note: This module is much faster with a GPU.\n"
     ]
    }
   ],
   "source": [
    "import cv2\n",
    "import easyocr\n",
    "\n",
    "# Initialize EasyOCR reader\n",
    "reader = easyocr.Reader(['en'])\n"
   ]
  },
  {
   "cell_type": "code",
   "execution_count": 3,
   "id": "64d900d9",
   "metadata": {},
   "outputs": [
    {
     "name": "stderr",
     "output_type": "stream",
     "text": [
      "c:\\Users\\sarat\\.conda\\envs\\doordetection\\lib\\site-packages\\torch\\utils\\data\\dataloader.py:666: UserWarning: 'pin_memory' argument is set as true but no accelerator is found, then device pinned memory won't be used.\n",
      "  warnings.warn(warn_msg)\n"
     ]
    }
   ],
   "source": [
    "# Load the floor plan image\n",
    "image_path = \"image1.jpg\"\n",
    "image = cv2.imread(image_path)\n",
    "\n",
    "# Perform OCR\n",
    "results = reader.readtext(image)\n",
    "\n",
    "target_label = \"ENTRY\"\n",
    "\n",
    "for (bbox, text, prob) in results:\n",
    "    if target_label in text.upper():\n",
    "        # Extract coordinates\n",
    "        (top_left, top_right, bottom_right, bottom_left) = bbox\n",
    "        top_left = tuple(map(int, top_left))\n",
    "        bottom_right = tuple(map(int, bottom_right))\n",
    "\n",
    "        # Draw rectangle and label\n",
    "        cv2.rectangle(image, top_left, bottom_right, (0, 255, 0), 2)\n",
    "        # cv2.putText(image, text, (top_left[0], top_left[1] - 10),\n",
    "        #             cv2.FONT_HERSHEY_SIMPLEX, 0.6, (0, 255, 0), 2)\n",
    "\n",
    "# Save or display result\n",
    "cv2.imwrite(\"highlighted_labels.jpg\", image)\n",
    "cv2.imshow(\"Detected STR Labels\", image)\n",
    "cv2.waitKey(0)\n",
    "cv2.destroyAllWindows()"
   ]
  },
  {
   "cell_type": "code",
   "execution_count": 4,
   "id": "c90fb935",
   "metadata": {},
   "outputs": [],
   "source": [
    "cv2.destroyAllWindows()"
   ]
  },
  {
   "cell_type": "code",
   "execution_count": null,
   "id": "18dcbac7",
   "metadata": {},
   "outputs": [],
   "source": []
  }
 ],
 "metadata": {
  "kernelspec": {
   "display_name": "doordetection",
   "language": "python",
   "name": "python3"
  },
  "language_info": {
   "codemirror_mode": {
    "name": "ipython",
    "version": 3
   },
   "file_extension": ".py",
   "mimetype": "text/x-python",
   "name": "python",
   "nbconvert_exporter": "python",
   "pygments_lexer": "ipython3",
   "version": "3.9.23"
  }
 },
 "nbformat": 4,
 "nbformat_minor": 5
}
